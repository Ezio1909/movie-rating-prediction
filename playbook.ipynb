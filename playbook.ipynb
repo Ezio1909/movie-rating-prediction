{
 "cells": [
  {
   "cell_type": "code",
   "execution_count": null,
   "id": "a42071af",
   "metadata": {},
   "outputs": [],
   "source": []
  }
 ],
 "metadata": {
  "kernelspec": {
   "display_name": "gat",
   "language": "python",
   "name": "python3"
  },
  "language_info": {
   "name": "python",
   "version": "3.11.6"
  }
 },
 "nbformat": 4,
 "nbformat_minor": 5
}
